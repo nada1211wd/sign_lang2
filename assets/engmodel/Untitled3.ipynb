{
 "cells": [
  {
   "cell_type": "markdown",
   "metadata": {},
   "source": [
    "# Dataset\n",
    "(Download from \"https://www.kaggle.com/ayuraj/asl-dataset?fbclid=IwAR2QxnczQNqAt0MEbVaXcSIOuyuxlLbAed3VIj6xuv5Hu1DSboZuYVHCsnM\")"
   ]
  },
  {
   "cell_type": "markdown",
   "metadata": {},
   "source": [
    "# Reading dataset (function)"
   ]
  },
  {
   "cell_type": "code",
   "execution_count": 1,
   "metadata": {},
   "outputs": [],
   "source": [
    "# CREATING X, Y\n",
    "from keras import models, layers\n",
    "import os\n",
    "import cv2\n",
    "import numpy as np\n",
    "\n",
    "num_classes=36\n",
    "IMG_SIZE = 100\n",
    "def vectorize_data(dir_path):\n",
    "    result = []\n",
    "    labels = []\n",
    "    for label in os.listdir(dir_path):\n",
    "        path=os.path.join(dir_path, label)\n",
    "        for img in os.listdir(path):\n",
    "            path2 = os.path.join(path, img)\n",
    "            i = cv2.imread(path2)\n",
    "            i = cv2.cvtColor(i, cv2.COLOR_BGR2GRAY)\n",
    "            i = cv2.resize(cv2.imread(path2, cv2.IMREAD_GRAYSCALE), (IMG_SIZE, IMG_SIZE))\n",
    "            i = i.astype('float32')/255.0\n",
    "            result.append(i)\n",
    "            labels.append(label)\n",
    "    return result, labels"
   ]
  },
  {
   "cell_type": "markdown",
   "metadata": {},
   "source": [
    "# Training Data"
   ]
  },
  {
   "cell_type": "code",
   "execution_count": 2,
   "metadata": {},
   "outputs": [
    {
     "data": {
      "text/plain": [
       "(1509,)"
      ]
     },
     "execution_count": 2,
     "metadata": {},
     "output_type": "execute_result"
    }
   ],
   "source": [
    "x, y = vectorize_data('dataset/train')\n",
    "\n",
    "x_train = np.array(x)\n",
    "y_train = np.array(y)\n",
    "\n",
    "x_train = np.expand_dims(x_train, axis=-1)\n",
    "x_train.shape\n",
    "y_train.shape\n"
   ]
  },
  {
   "cell_type": "code",
   "execution_count": 3,
   "metadata": {},
   "outputs": [
    {
     "name": "stdout",
     "output_type": "stream",
     "text": [
      "(1509, 100, 100, 1)\n",
      "(1509,)\n"
     ]
    }
   ],
   "source": [
    "print(x_train.shape)\n",
    "print(y_train.shape)"
   ]
  },
  {
   "cell_type": "markdown",
   "metadata": {},
   "source": [
    "# Valadation Data"
   ]
  },
  {
   "cell_type": "code",
   "execution_count": 4,
   "metadata": {},
   "outputs": [
    {
     "data": {
      "text/plain": [
       "(503,)"
      ]
     },
     "execution_count": 4,
     "metadata": {},
     "output_type": "execute_result"
    }
   ],
   "source": [
    "x, y = vectorize_data('dataset/val')\n",
    "\n",
    "x_val = np.array(x)\n",
    "y_val = np.array(y)\n",
    "\n",
    "x_val = np.expand_dims(x_val, axis=-1)\n",
    "x_val.shape\n",
    "y_val.shape"
   ]
  },
  {
   "cell_type": "code",
   "execution_count": 5,
   "metadata": {},
   "outputs": [
    {
     "name": "stdout",
     "output_type": "stream",
     "text": [
      "(503, 100, 100, 1)\n",
      "(503,)\n"
     ]
    }
   ],
   "source": [
    "print(x_val.shape)\n",
    "print(y_val.shape)"
   ]
  },
  {
   "cell_type": "markdown",
   "metadata": {},
   "source": [
    "# Testing Data"
   ]
  },
  {
   "cell_type": "code",
   "execution_count": 6,
   "metadata": {},
   "outputs": [
    {
     "data": {
      "text/plain": [
       "(503,)"
      ]
     },
     "execution_count": 6,
     "metadata": {},
     "output_type": "execute_result"
    }
   ],
   "source": [
    "x, y = vectorize_data('dataset/test')\n",
    "\n",
    "x_test = np.array(x)\n",
    "y_test = np.array(y)\n",
    "\n",
    "x_test = np.expand_dims(x_test, axis=-1)\n",
    "x_test.shape\n",
    "y_test.shape"
   ]
  },
  {
   "cell_type": "code",
   "execution_count": 7,
   "metadata": {},
   "outputs": [
    {
     "name": "stdout",
     "output_type": "stream",
     "text": [
      "(503, 100, 100, 1)\n",
      "(503,)\n"
     ]
    }
   ],
   "source": [
    "print(x_test.shape)\n",
    "print(y_test.shape)"
   ]
  },
  {
   "cell_type": "code",
   "execution_count": 8,
   "metadata": {},
   "outputs": [],
   "source": [
    "from keras.utils.np_utils import to_categorical\n",
    "dictonary = {'0':0 ,'1':1, '2':2, '3':3, '4':4 ,'5':5, '6':6, '7':7, '8':8, '9':9,'a':10, 'b':11, 'c':12, 'd':13, \n",
    "             'e':14, 'f':15, 'g':16, 'h':17, 'i':18, 'j':19, 'k':20, 'l':21, 'm':22,'n':23, 'o':24, 'p':25, \n",
    "            'q':26, 'r':27, 's':28, 't':29, 'u':30, 'v':31, 'w':32, 'x':33, 'y':34 , 'z':35}\n",
    "\n",
    "num_classes=len(dictonary)\n",
    "keys, inv = np.unique(y_train, return_inverse=True)\n",
    "\n",
    "# TRAINING\n",
    "vals = np.array([dictonary[key] for key in keys])\n",
    "y_train_new = vals[inv]\n",
    "y_train_new_cat = to_categorical(y_train_new, num_classes)\n",
    "\n",
    "\n",
    "#VALADATION\n",
    "keys, inv = np.unique(y_val, return_inverse=True)\n",
    "vals = np.array([dictonary[key] for key in keys])\n",
    "y_val_new = vals[inv]\n",
    "y_val_new_cat = to_categorical(y_val_new, num_classes)\n",
    "\n",
    "\n",
    "# SHUFFLE\n",
    "def unison_shuffled_copies(a, b):\n",
    "    p = np.random.permutation(len(a))\n",
    "    return a[p], b[p]\n",
    "\n",
    "x_new,y_new = unison_shuffled_copies(x_train,y_train_new_cat)\n",
    "x_newval,y_newval = unison_shuffled_copies(x_val,y_val_new_cat)\n"
   ]
  },
  {
   "cell_type": "markdown",
   "metadata": {},
   "source": [
    "# Building CNN"
   ]
  },
  {
   "cell_type": "code",
   "execution_count": 9,
   "metadata": {},
   "outputs": [],
   "source": [
    "# MODEL CREATION\n",
    "from keras.models import Sequential\n",
    "from keras.layers import Conv2D, MaxPooling2D, Activation, Dropout, Flatten, Dense\n",
    "\n",
    "IMG_SIZE = 100\n",
    "num_classes = 36\n",
    "model = Sequential()\n",
    "\n",
    "model.add(Conv2D(16, (2,2), input_shape=(IMG_SIZE, IMG_SIZE, 1), activation='relu'))\n",
    "model.add(MaxPooling2D(pool_size=(2, 2) ))\n",
    "model.add(Conv2D(32, (3,3), activation='relu'))\n",
    "model.add(MaxPooling2D(pool_size=(2, 2) ))\n",
    "model.add(Conv2D(64, (3,3), activation='relu'))\n",
    "model.add(MaxPooling2D(pool_size=(2, 2) ))\n",
    "\n",
    "model.add(Flatten())\n",
    "model.add(Dense(128))\n",
    "model.add(Activation('relu'))\n",
    "model.add(Dropout(0.2))\n",
    "model.add(Dense(num_classes, activation='softmax'))\n",
    "\n",
    "model.compile(optimizer='adam', loss='categorical_crossentropy', metrics=['accuracy'])\n"
   ]
  },
  {
   "cell_type": "code",
   "execution_count": 10,
   "metadata": {},
   "outputs": [
    {
     "name": "stdout",
     "output_type": "stream",
     "text": [
      "Model: \"sequential\"\n",
      "_________________________________________________________________\n",
      " Layer (type)                Output Shape              Param #   \n",
      "=================================================================\n",
      " conv2d (Conv2D)             (None, 99, 99, 16)        80        \n",
      "                                                                 \n",
      " max_pooling2d (MaxPooling2D  (None, 49, 49, 16)       0         \n",
      " )                                                               \n",
      "                                                                 \n",
      " conv2d_1 (Conv2D)           (None, 47, 47, 32)        4640      \n",
      "                                                                 \n",
      " max_pooling2d_1 (MaxPooling  (None, 23, 23, 32)       0         \n",
      " 2D)                                                             \n",
      "                                                                 \n",
      " conv2d_2 (Conv2D)           (None, 21, 21, 64)        18496     \n",
      "                                                                 \n",
      " max_pooling2d_2 (MaxPooling  (None, 10, 10, 64)       0         \n",
      " 2D)                                                             \n",
      "                                                                 \n",
      " flatten (Flatten)           (None, 6400)              0         \n",
      "                                                                 \n",
      " dense (Dense)               (None, 128)               819328    \n",
      "                                                                 \n",
      " activation (Activation)     (None, 128)               0         \n",
      "                                                                 \n",
      " dropout (Dropout)           (None, 128)               0         \n",
      "                                                                 \n",
      " dense_1 (Dense)             (None, 36)                4644      \n",
      "                                                                 \n",
      "=================================================================\n",
      "Total params: 847,188\n",
      "Trainable params: 847,188\n",
      "Non-trainable params: 0\n",
      "_________________________________________________________________\n"
     ]
    }
   ],
   "source": [
    "model.summary()"
   ]
  },
  {
   "cell_type": "markdown",
   "metadata": {},
   "source": [
    "# Training (and validation)"
   ]
  },
  {
   "cell_type": "code",
   "execution_count": 11,
   "metadata": {},
   "outputs": [],
   "source": [
    "from tensorflow.keras.callbacks import ModelCheckpoint\n",
    "\n",
    "checkpoint = ModelCheckpoint(\n",
    "    'saved-best-model/the_best-model', monitor='val_loss', mode='min', \n",
    "    save_weights_only=False , save_best_only=True, verbose=1\n",
    "    )"
   ]
  },
  {
   "cell_type": "code",
   "execution_count": 12,
   "metadata": {},
   "outputs": [
    {
     "name": "stdout",
     "output_type": "stream",
     "text": [
      "Epoch 1/10\n",
      "752/755 [============================>.] - ETA: 0s - loss: 1.4321 - accuracy: 0.5911\n",
      "Epoch 00001: val_loss improved from inf to 0.47699, saving model to saved-best-model\\the_best-model\n",
      "INFO:tensorflow:Assets written to: saved-best-model\\the_best-model\\assets\n",
      "755/755 [==============================] - 12s 16ms/step - loss: 1.4293 - accuracy: 0.5918 - val_loss: 0.4770 - val_accuracy: 0.8270\n",
      "Epoch 2/10\n",
      "755/755 [==============================] - ETA: 0s - loss: 0.3964 - accuracy: 0.8694\n",
      "Epoch 00002: val_loss improved from 0.47699 to 0.25552, saving model to saved-best-model\\the_best-model\n",
      "INFO:tensorflow:Assets written to: saved-best-model\\the_best-model\\assets\n",
      "755/755 [==============================] - 12s 16ms/step - loss: 0.3964 - accuracy: 0.8694 - val_loss: 0.2555 - val_accuracy: 0.9066\n",
      "Epoch 3/10\n",
      "754/755 [============================>.] - ETA: 0s - loss: 0.2472 - accuracy: 0.9078\n",
      "Epoch 00003: val_loss improved from 0.25552 to 0.22842, saving model to saved-best-model\\the_best-model\n",
      "INFO:tensorflow:Assets written to: saved-best-model\\the_best-model\\assets\n",
      "755/755 [==============================] - 11s 15ms/step - loss: 0.2470 - accuracy: 0.9079 - val_loss: 0.2284 - val_accuracy: 0.9225\n",
      "Epoch 4/10\n",
      "752/755 [============================>.] - ETA: 0s - loss: 0.1753 - accuracy: 0.9362\n",
      "Epoch 00004: val_loss improved from 0.22842 to 0.20428, saving model to saved-best-model\\the_best-model\n",
      "INFO:tensorflow:Assets written to: saved-best-model\\the_best-model\\assets\n",
      "755/755 [==============================] - 11s 15ms/step - loss: 0.1767 - accuracy: 0.9357 - val_loss: 0.2043 - val_accuracy: 0.9284\n",
      "Epoch 5/10\n",
      "755/755 [==============================] - ETA: 0s - loss: 0.1239 - accuracy: 0.9583\n",
      "Epoch 00005: val_loss improved from 0.20428 to 0.15201, saving model to saved-best-model\\the_best-model\n",
      "INFO:tensorflow:Assets written to: saved-best-model\\the_best-model\\assets\n",
      "755/755 [==============================] - 11s 15ms/step - loss: 0.1239 - accuracy: 0.9583 - val_loss: 0.1520 - val_accuracy: 0.9543\n",
      "Epoch 6/10\n",
      "755/755 [==============================] - ETA: 0s - loss: 0.0902 - accuracy: 0.9742\n",
      "Epoch 00006: val_loss improved from 0.15201 to 0.11875, saving model to saved-best-model\\the_best-model\n",
      "INFO:tensorflow:Assets written to: saved-best-model\\the_best-model\\assets\n",
      "755/755 [==============================] - 11s 15ms/step - loss: 0.0902 - accuracy: 0.9742 - val_loss: 0.1187 - val_accuracy: 0.9642\n",
      "Epoch 7/10\n",
      "752/755 [============================>.] - ETA: 0s - loss: 0.0930 - accuracy: 0.9688\n",
      "Epoch 00007: val_loss did not improve from 0.11875\n",
      "755/755 [==============================] - 10s 13ms/step - loss: 0.0928 - accuracy: 0.9689 - val_loss: 0.2797 - val_accuracy: 0.9185\n",
      "Epoch 8/10\n",
      "753/755 [============================>.] - ETA: 0s - loss: 0.0805 - accuracy: 0.9721\n",
      "Epoch 00008: val_loss did not improve from 0.11875\n",
      "755/755 [==============================] - 10s 14ms/step - loss: 0.0803 - accuracy: 0.9722 - val_loss: 0.1604 - val_accuracy: 0.9483\n",
      "Epoch 9/10\n",
      "754/755 [============================>.] - ETA: 0s - loss: 0.0595 - accuracy: 0.9781\n",
      "Epoch 00009: val_loss did not improve from 0.11875\n",
      "755/755 [==============================] - 11s 15ms/step - loss: 0.0595 - accuracy: 0.9781 - val_loss: 0.1825 - val_accuracy: 0.9543\n",
      "Epoch 10/10\n",
      "753/755 [============================>.] - ETA: 0s - loss: 0.0661 - accuracy: 0.9788\n",
      "Epoch 00010: val_loss did not improve from 0.11875\n",
      "755/755 [==============================] - 11s 15ms/step - loss: 0.0660 - accuracy: 0.9788 - val_loss: 0.2111 - val_accuracy: 0.9483\n"
     ]
    }
   ],
   "source": [
    "history = model.fit(x_new, y_new, \n",
    "          epochs = 10, \n",
    "          validation_data = (x_newval, y_newval), \n",
    "          shuffle = True, \n",
    "          batch_size = 2,\n",
    "          callbacks=[checkpoint])"
   ]
  },
  {
   "cell_type": "markdown",
   "metadata": {},
   "source": [
    "# Visualizing Training and validation History"
   ]
  },
  {
   "cell_type": "code",
   "execution_count": 13,
   "metadata": {},
   "outputs": [
    {
     "name": "stdout",
     "output_type": "stream",
     "text": [
      "48/48 [==============================] - 1s 22ms/step - loss: 0.0264 - accuracy: 0.9907\n"
     ]
    },
    {
     "data": {
      "text/plain": [
       "[0.02639472670853138, 0.9907223582267761]"
      ]
     },
     "execution_count": 13,
     "metadata": {},
     "output_type": "execute_result"
    }
   ],
   "source": [
    "model.evaluate(x_new, y_new)"
   ]
  },
  {
   "cell_type": "code",
   "execution_count": 14,
   "metadata": {},
   "outputs": [
    {
     "name": "stdout",
     "output_type": "stream",
     "text": [
      "16/16 [==============================] - 0s 22ms/step - loss: 0.2111 - accuracy: 0.9483\n"
     ]
    },
    {
     "data": {
      "text/plain": [
       "[0.21108460426330566, 0.948310136795044]"
      ]
     },
     "execution_count": 14,
     "metadata": {},
     "output_type": "execute_result"
    }
   ],
   "source": [
    "model.evaluate(x_newval,y_newval)"
   ]
  },
  {
   "cell_type": "code",
   "execution_count": 15,
   "metadata": {},
   "outputs": [],
   "source": [
    "import numpy as np\n",
    "import pandas as pd\n",
    "import matplotlib.pyplot as plt\n",
    "%matplotlib inline"
   ]
  },
  {
   "cell_type": "code",
   "execution_count": 16,
   "metadata": {},
   "outputs": [
    {
     "data": {
      "image/png": "[encoded data removed]",
      "text/plain": [
       "<Figure size 864x576 with 1 Axes>"
      ]
     },
     "metadata": {
      "needs_background": "light"
     },
     "output_type": "display_data"
    }
   ],
   "source": [
    "hist_df = pd.DataFrame(history.history)\n",
    "hist_df.plot(y=['accuracy', 'val_accuracy'], figsize=(12, 8))\n",
    "plt.xlabel('epoch')\n",
    "plt.ylabel('accuracy')\n",
    "plt.title('Training and Validation Accuracy')\n",
    "plt.grid(axis='both')\n",
    "plt.xticks(np.arange(0, 13, 2))\n",
    "plt.yticks(np.arange(0.5, 1.01, 0.05))\n",
    "plt.show()"
   ]
  },
  {
   "cell_type": "markdown",
   "metadata": {},
   "source": [
    "# Testing"
   ]
  },
  {
   "cell_type": "code",
   "execution_count": 17,
   "metadata": {},
   "outputs": [],
   "source": [
    "keys, inv = np.unique(y_test, return_inverse=True)\n",
    "vals = np.array([dictonary[key] for key in keys])\n",
    "y_test_new = vals[inv]\n",
    "y_test_new_cat = to_categorical(y_test_new,num_classes)\n",
    "x_testnew,y_testnew = unison_shuffled_copies(x_test,y_test_new_cat)"
   ]
  },
  {
   "cell_type": "code",
   "execution_count": 18,
   "metadata": {},
   "outputs": [
    {
     "name": "stdout",
     "output_type": "stream",
     "text": [
      "16/16 [==============================] - 0s 23ms/step - loss: 0.1165 - accuracy: 0.9702\n"
     ]
    },
    {
     "data": {
      "text/plain": [
       "[0.11647795885801315, 0.9701789021492004]"
      ]
     },
     "execution_count": 18,
     "metadata": {},
     "output_type": "execute_result"
    }
   ],
   "source": [
    "model.evaluate(x_testnew, y_testnew)"
   ]
  },
  {
   "cell_type": "markdown",
   "metadata": {},
   "source": [
    "# Save model"
   ]
  },
  {
   "cell_type": "code",
   "execution_count": 19,
   "metadata": {},
   "outputs": [],
   "source": [
    "model.save(\"engmodel.h5\")"
   ]
  },
  {
   "cell_type": "markdown",
   "metadata": {},
   "source": [
    "# Camera "
   ]
  },
  {
   "cell_type": "code",
   "execution_count": 20,
   "metadata": {},
   "outputs": [],
   "source": [
    "import cvzone\n",
    "from cvzone.SelfiSegmentationModule import SelfiSegmentation\n",
    "import cv2\n",
    "import imutils\n",
    "from keras.models import load_model\n",
    "from PIL import Image, ImageDraw\n",
    "import os\n",
    "import numpy as np\n",
    "from translate import Translator\n",
    "from gtts import gTTS \n",
    "from playsound import playsound \n",
    "import mediapipe as mp\n",
    "import time"
   ]
  },
  {
   "cell_type": "code",
   "execution_count": 22,
   "metadata": {},
   "outputs": [],
   "source": [
    "model = load_model(\"engmodel.h5\")\n",
    "IMG_SIZE = 100\n",
    "top, right, bottom, left = 10, 350, 225, 590\n",
    "SAVE_PATH = \"C:/Users/Andalus/Final\""
   ]
  },
  {
   "cell_type": "markdown",
   "metadata": {},
   "source": [
    "# Function for voice"
   ]
  },
  {
   "cell_type": "code",
   "execution_count": 23,
   "metadata": {},
   "outputs": [],
   "source": [
    "from playsound import playsound \n",
    "def voice(vo):\n",
    "    language = 'en'\n",
    "    myobj = gTTS(text=string, lang=language, slow=False)\n",
    "    myobj.save(\"hi.mp3\")\n",
    "    os.system(\"mpg321 hi.mp3\")\n",
    "    playsound(\"hi.mp3\")"
   ]
  },
  {
   "cell_type": "code",
   "execution_count": 24,
   "metadata": {},
   "outputs": [],
   "source": [
    "img_count = 1\n",
    "dictonary = {'0':0 ,'1':1, '2':2, '3':3, '4':4 ,'5':5, '6':6, '7':7, '8':8, '9':9,'a':10, 'b':11, 'c':12, 'd':13, \n",
    "             'e':14, 'f':15, 'g':16, 'h':17, 'i':18, 'j':19, 'k':20, 'l':21, 'm':22,'n':23, 'o':24, 'p':25, \n",
    "            'q':26, 'r':27, 's':28, 't':29, 'u':30, 'v':31, 'w':32, 'x':33, 'y':34 , 'z':35}\n",
    "num_class = len(dictonary)\n",
    "out = \"\"\n",
    "text = \"\"\n",
    "inv_dictonary = dict(map(reversed, dictonary.items()))\n",
    "string = \"\"\n",
    "\n",
    "camera = cv2.VideoCapture(0)\n",
    "success, frame = camera.read()\n",
    "segmentor=SelfiSegmentation()         #segmentation\n",
    " \n",
    "\n",
    "while success:\n",
    "    \n",
    "    gray_frame = cv2.flip(frame, 1)\n",
    "    cv2.rectangle(gray_frame, (left, top), (right, bottom), (0,255,0), 2)\n",
    "    roi = gray_frame[top:bottom, right:left]\n",
    "    roi=segmentor.removeBG(roi,(0,0,0))\n",
    "    roi = cv2.cvtColor(roi, cv2.COLOR_BGR2GRAY)\n",
    "    cv2.imshow(\"Segmentation\", roi)\n",
    "    \n",
    "    \n",
    "    key = cv2.waitKey(1)\n",
    "    if key == 36:\n",
    "        break\n",
    "    if key == ord('q'):                         #exit\n",
    "        break\n",
    "    \n",
    "    \n",
    "    \n",
    "    # PREDICTION\n",
    "    roi = cv2.resize(roi, (IMG_SIZE, IMG_SIZE))\n",
    "    roi = np.expand_dims(roi, axis=-1)\n",
    "    roi = np.expand_dims(roi, axis=0)\n",
    "    p = model.predict(roi)\n",
    "    p2 = np.argmax(p)\n",
    "    out = inv_dictonary[p2]\n",
    "    #PREDICTION ENDS\n",
    "    \n",
    "\n",
    "    \n",
    "    font = cv2.FONT_HERSHEY_SIMPLEX\n",
    "    cv2.putText(gray_frame,out, (22,34), font, 1, (200,255,255), 2, cv2.LINE_AA)\n",
    "    cv2.putText(gray_frame,string, (22,64), font, 1, (200,255,255), 2, cv2.LINE_AA)\n",
    "    \n",
    "    \n",
    "    cv2.imshow(\"Sign Language Translator\", gray_frame)\n",
    "    \n",
    "    \n",
    "    if key == ord('a'):                         #append\n",
    "        string = string+\"\"+out\n",
    "        \n",
    "    if key == ord('v'):                         #voice\n",
    "        voice(string)\n",
    "         \n",
    "    if key ==ord('b'):                            # Backspace\n",
    "        string= string[:-1]\n",
    "        \n",
    "    if key == ord('s'):                           #space\n",
    "        string= string +\" \"\n",
    "       \n",
    "    if key == ord('r'):                            #clear\n",
    "        roi = frame[top:bottom, right:left]\n",
    "        string = \"\"\n",
    "\n",
    "    if key == ord('c'):                             #screen\n",
    "        img_name = \"data{}.png\".format(img_count)\n",
    "        img_count+=1\n",
    "        cv2.imwrite(os.path.join(SAVE_PATH, img_name), gray_frame)\n",
    "        \n",
    "\n",
    "    success, frame = camera.read()\n",
    "      \n",
    "camera.release()\n",
    "cv2.destroyAllWindows()"
   ]
  },
  {
   "cell_type": "code",
   "execution_count": null,
   "metadata": {},
   "outputs": [],
   "source": []
  }
 ],
 "metadata": {
  "kernelspec": {
   "display_name": "Python 3",
   "language": "python",
   "name": "python3"
  },
  "language_info": {
   "codemirror_mode": {
    "name": "ipython",
    "version": 3
   },
   "file_extension": ".py",
   "mimetype": "text/x-python",
   "name": "python",
   "nbconvert_exporter": "python",
   "pygments_lexer": "ipython3",
   "version": "3.8.3"
  }
 },
 "nbformat": 4,
 "nbformat_minor": 4
}
